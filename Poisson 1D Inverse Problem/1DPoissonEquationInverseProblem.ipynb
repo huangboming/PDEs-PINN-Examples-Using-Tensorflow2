{
  "nbformat": 4,
  "nbformat_minor": 0,
  "metadata": {
    "colab": {
      "provenance": []
    },
    "kernelspec": {
      "name": "python3",
      "display_name": "Python 3"
    },
    "language_info": {
      "name": "python"
    }
  },
  "cells": [
    {
      "cell_type": "code",
      "source": [
        "from matplotlib import pyplot as plt\n",
        "import tensorflow as tf\n",
        "import numpy as np"
      ],
      "metadata": {
        "id": "f5Ftmr-OazLc"
      },
      "execution_count": 1,
      "outputs": []
    },
    {
      "cell_type": "code",
      "execution_count": 2,
      "metadata": {
        "id": "eWce3WV8ards"
      },
      "outputs": [],
      "source": [
        "class Layer:\n",
        "    \"\"\"\n",
        "    Define the structure of every layer.\n",
        "    \n",
        "    Paras:\n",
        "      input_dim: size of input dataset\n",
        "      output_dim: number of neurons\n",
        "      activation: activation function, default: None(i.e. without activation function)\n",
        "      \n",
        "    Properties:\n",
        "      activation: activation function\n",
        "      W, b: weights of the layer\n",
        "      weights: a list that contains W and b\n",
        "      \n",
        "    You can just call a layer to execute the progress called \"forward pass\"\n",
        "    \"\"\"\n",
        "    def __init__(self, input_dim, output_dim, activation=None):\n",
        "        self.activation = activation\n",
        "        \n",
        "        # initial weights\n",
        "        std = np.sqrt(2 / (input_dim + output_dim))\n",
        "        self.W = tf.Variable(initial_value=tf.random.normal(shape=(input_dim, output_dim), stddev=std))\n",
        "        self.b = tf.Variable(initial_value=tf.zeros(shape=(output_dim, )))\n",
        "        \n",
        "    def __call__(self, inputs):\n",
        "        # forward pass\n",
        "        if self.activation:\n",
        "            return self.activation(tf.matmul(inputs, self.W) + self.b)\n",
        "        else:\n",
        "            # If the layer don't have an activation, go linear combination directly\n",
        "            return tf.matmul(inputs, self.W) + self.b\n",
        "        \n",
        "    @property\n",
        "    def weights(self):\n",
        "        # define \"weight\" property\n",
        "        return [self.W, self.b]\n",
        "    \n",
        "class Model:\n",
        "    \"\"\"\n",
        "    Define the model\n",
        "    \n",
        "    Paras:\n",
        "      layers: a list of Layer\n",
        "      xmin, xmax: the range of the PDE\n",
        "      \n",
        "    Properties:\n",
        "      layers: a list of Layer\n",
        "      xmin, xmax: the range of the PDE\n",
        "      weights: a list that contains weights of each layer\n",
        "      \n",
        "    You can call the model to calculate the result based on given dataset\n",
        "    \"\"\"\n",
        "    def __init__(self, layers, xmin, xmax):\n",
        "        self.layers = layers\n",
        "        self.xmin = xmin\n",
        "        self.xmax = xmax\n",
        "        \n",
        "    def __call__(self, training_set):\n",
        "        x = training_set\n",
        "        x = 2.0 * (x - self.xmin) / (self.xmax - self.xmin) - 1.0\n",
        "        for layer in self.layers:\n",
        "            # update inputs\n",
        "            x = layer(x)\n",
        "        return x\n",
        "    \n",
        "    @property\n",
        "    def weights(self):\n",
        "        # 将所有layer的参数整合在一起\n",
        "        weights = []\n",
        "        for layer in self.layers:\n",
        "            weights += layer.weights\n",
        "        return weights"
      ]
    },
    {
      "cell_type": "code",
      "source": [
        "def train_step(model, optimizer, lambda_lst, X_train, u_train, w1=1, w2=1):\n",
        "    \"\"\"\n",
        "    One training step using SGD. Return loss score after SGD.\n",
        "    \n",
        "    Params:\n",
        "      model: an NN/DNN model\n",
        "      optimizer: a Keras optimizer, to implement SGD\n",
        "      lambda_lst: a list of params of the PDE\n",
        "      X_train: training set for x\n",
        "      u_train: training set for u\n",
        "      w1, w2: weights for loss of PDE and loss of data\n",
        "    \"\"\"\n",
        "    \n",
        "    # In an inverse problem, we have to train parameters in the pde\n",
        "    weights = model.weights + lambda_lst\n",
        "    \n",
        "    # Calculate loss\n",
        "    with tf.GradientTape() as utter_tape:\n",
        "        with tf.GradientTape() as outer_tape:\n",
        "            with tf.GradientTape() as inner_tape:\n",
        "                x = X_train # alias for convenience\n",
        "                u = model(x)\n",
        "            u_x = inner_tape.gradient(u, x)\n",
        "        u_xx = outer_tape.gradient(u_x, x)\n",
        "        \n",
        "        f = np.pi**2 * np.sin(np.pi * x)\n",
        "        \n",
        "        # loss of the pde\n",
        "        loss_f = tf.reduce_mean(tf.square(-lambda_lst[0] * u_xx - f))\n",
        "        # loss of the data\n",
        "        loss_u = tf.reduce_mean(tf.square(u - u_train))\n",
        "        # total loss\n",
        "        loss = w1 * loss_f + w2 * loss_u\n",
        "    \n",
        "    optimizer.minimize(loss, weights, tape=utter_tape)\n",
        "    return lambda_lst, loss\n",
        "\n",
        "def train_model(model, lambda_lst, X_train, u_train, w1=1, w2=1, epochs=1000, learning_rate=0.0008, warning=False):\n",
        "    \"\"\"\n",
        "    Train NN/DNN model.\n",
        "    \n",
        "    Params:\n",
        "      model: an NN/DNN model\n",
        "      lambda_lst: a list of params of the PDE\n",
        "      X_train: training set for x\n",
        "      u_train: training set for u\n",
        "      w1, w2: weights for loss of PDE and loss of data\n",
        "      epochs: times of training\n",
        "      learning_rate: learning rate\n",
        "      warning: whether to show loss score of each epoch and pde parameters in each epoch\n",
        "\n",
        "    Return values:\n",
        "      loss_history: a list of loss scores in the training progress\n",
        "      lambda_history: a list of lambda values(i.e params of the PDE) in each training step\n",
        "    \"\"\"\n",
        "    \n",
        "    loss_history = []\n",
        "    lambda_history = []\n",
        "    optimizer = tf.keras.optimizers.Adam(learning_rate=learning_rate)\n",
        "    \n",
        "    for epoch in range(epochs):\n",
        "        lambda_lst, loss = train_step(model, optimizer, lambda_lst, X_train, u_train, w1, w2)\n",
        "        loss_history.append(loss)\n",
        "        lambda_history.append([tf.Variable(_lambda) for _lambda in lambda_lst])\n",
        "        if warning:\n",
        "            print(f'epoch: {epoch + 1}, loss: {loss:.5f}')\n",
        "            for i in range(len(lambda_lst)):\n",
        "                print(f'lambda{i+1}: {lambda_lst[i].numpy()[0]:.5f}')\n",
        "            print()\n",
        "            \n",
        "    return loss_history, lambda_history"
      ],
      "metadata": {
        "id": "EJH2fvcLbB2C"
      },
      "execution_count": 3,
      "outputs": []
    },
    {
      "cell_type": "markdown",
      "source": [
        "# Problem setup\n",
        "\n",
        "PDE:\n",
        "$$\\left\\{\\begin{array}{l}\n",
        "-\\lambda u^{''}(x) = f(x) \\quad x \\in (-1, 1) \\\\\n",
        "u(-1) = u(1) = 0\n",
        "\\end{array}\\right.$$\n",
        "\n",
        "where $f(x) = \\pi^2 \\sin(\\pi x)$.\n",
        "\n",
        "Exact solution(for generating training set): $u(x) = sin(\\pi x)$.\n",
        "\n",
        "We're going to train a DNN to approximate $\\lambda$. (The exact result is $\\lambda = 1$)"
      ],
      "metadata": {
        "id": "DjTN7BudBlO4"
      }
    },
    {
      "cell_type": "code",
      "source": [
        "def u_exact(x):\n",
        "    \"\"\"\n",
        "    The exact solution of PDE.\n",
        "    \"\"\"\n",
        "    return tf.sin(np.pi * x)"
      ],
      "metadata": {
        "id": "eC2uY6EbbERn"
      },
      "execution_count": 4,
      "outputs": []
    },
    {
      "cell_type": "code",
      "source": [
        "# training set\n",
        "# here I use the exact solution to generate training set\n",
        "\n",
        "xmin = -1\n",
        "xmax = 1\n",
        "point_counts = 2000\n",
        "\n",
        "x = xmin + (xmax - xmin) * np.random.rand(point_counts, 1)\n",
        "X_train = tf.Variable(initial_value=x, dtype='float32')\n",
        "# exact `u` value of training set\n",
        "u_train = u_exact(X_train)\n",
        "\n",
        "X_min = tf.Variable(initial_value=[[xmin]], dtype=\"float32\")\n",
        "X_max = tf.Variable(initial_value=[[xmax]], dtype=\"float32\")"
      ],
      "metadata": {
        "id": "4ldNc9EubL00"
      },
      "execution_count": 5,
      "outputs": []
    },
    {
      "cell_type": "code",
      "source": [
        "# Initialize parameters in PDE\n",
        "lambda1 = tf.Variable(initial_value=[0], dtype=\"float32\")\n",
        "lambda_lst = [lambda1, ]\n",
        "initial_lambda_lst = [tf.Variable(_lambda) for _lambda in lambda_lst] # deep copy, just for comparing the original value and the results\n",
        "\n",
        "# if you have multiple parameters in PDE\n",
        "# make sure create them as 0D tensor\n",
        "# then append them to the lambda_lst\n",
        "\n",
        "model = Model([\n",
        "    Layer(input_dim=1, output_dim=40, activation=tf.nn.tanh),\n",
        "    Layer(input_dim=40, output_dim=40, activation=tf.nn.tanh),\n",
        "    Layer(input_dim=40, output_dim=40, activation=tf.nn.tanh),\n",
        "    Layer(input_dim=40, output_dim=1, activation=None)\n",
        "], X_min, X_max)"
      ],
      "metadata": {
        "id": "5VK9mHnvbNLX"
      },
      "execution_count": 6,
      "outputs": []
    },
    {
      "cell_type": "code",
      "source": [
        "epochs = 20000\n",
        "learning_rate = 8e-4\n",
        "loss_history, lambda_history = train_model(model, lambda_lst, X_train, u_train,\n",
        "                           w1=1, w2=1, epochs=epochs, learning_rate=learning_rate, warning=False)"
      ],
      "metadata": {
        "id": "2dvu2itkcOnS"
      },
      "execution_count": 7,
      "outputs": []
    },
    {
      "cell_type": "code",
      "source": [
        "plt.plot(np.array(range(epochs)) + 1, loss_history, label='loss score')\n",
        "plt.title('history loss')\n",
        "plt.legend()\n",
        "plt.show()\n",
        "\n",
        "print(f'Final loss score: {loss_history[-1]}')"
      ],
      "metadata": {
        "colab": {
          "base_uri": "https://localhost:8080/",
          "height": 298
        },
        "id": "MZj7hVxwdKSr",
        "outputId": "272d590d-60db-4f11-b13e-cefed28cb4c9"
      },
      "execution_count": 11,
      "outputs": [
        {
          "output_type": "display_data",
          "data": {
            "text/plain": [
              "<Figure size 432x288 with 1 Axes>"
            ],
            "image/png": "[encoded data removed]"
          },
          "metadata": {
            "needs_background": "light"
          }
        },
        {
          "output_type": "stream",
          "name": "stdout",
          "text": [
            "Final loss score: 1.5383095160359517e-05\n"
          ]
        }
      ]
    },
    {
      "cell_type": "code",
      "source": [
        "# plot params results and history\n",
        "for i in range(len(lambda_lst)):\n",
        "    final_result = lambda_history[-1]\n",
        "    print(f\"lambda{i}\")\n",
        "    print(f\"value before training: {initial_lambda_lst[i].numpy()[0]}; value after training: {final_result[i].numpy()[0]:5f}\")\n",
        "\n",
        "plt.figure()\n",
        "epoch_array = np.array([epoch + 1 for epoch in range(epochs)])\n",
        "plt.plot(epoch_array, np.ones_like(epoch_array), 'b--', label='$\\lambda=1$')\n",
        "\n",
        "for i in range(len(lambda_lst)):\n",
        "  lambda_i_history = np.array(lambda_history)[:, i]\n",
        "  lambda_i_history = lambda_i_history[:, 0] # (shape) change (epochs, 1) to (epochs,)\n",
        "  plt.plot(epoch_array, lambda_i_history, label=f'$\\lambda${i}')\n",
        "\n",
        "plt.xlabel('epochs')\n",
        "plt.ylabel('$\\lambda$')\n",
        "plt.legend()\n",
        "plt.savefig('lambda_progress.png')\n",
        "plt.show()\n",
        "plt.close()\n",
        "\n",
        "# plot model results\n",
        "\n",
        "u_pred = model(X_train)\n",
        "\n",
        "plt.figure()\n",
        "plt.plot(np.linspace(-1, 1, 201), u_exact(np.linspace(-1, 1, 201)), 'b-', label='Exact Solution')\n",
        "plt.plot(X_train, u_pred, 'ro', label='PINN Solution')\n",
        "plt.xlim([-1.1, 1.1])\n",
        "plt.ylim([-1.1, 1.1])\n",
        "plt.legend()\n",
        "plt.savefig('model_results.png')\n",
        "plt.show()\n",
        "plt.close()"
      ],
      "metadata": {
        "colab": {
          "base_uri": "https://localhost:8080/",
          "height": 562
        },
        "id": "IbAn4_eUpCJm",
        "outputId": "56f09db6-1ca2-4956-bde8-fa558252e55e"
      },
      "execution_count": 9,
      "outputs": [
        {
          "output_type": "stream",
          "name": "stdout",
          "text": [
            "lambda0\n",
            "value before training: 0.0; value after training: 0.999539\n"
          ]
        },
        {
          "output_type": "display_data",
          "data": {
            "text/plain": [
              "<Figure size 432x288 with 1 Axes>"
            ],
            "image/png": "[encoded data removed]"
          },
          "metadata": {
            "needs_background": "light"
          }
        },
        {
          "output_type": "display_data",
          "data": {
            "text/plain": [
              "<Figure size 432x288 with 1 Axes>"
            ],
            "image/png": "[encoded data removed]"
          },
          "metadata": {
            "needs_background": "light"
          }
        }
      ]
    }
  ]
}