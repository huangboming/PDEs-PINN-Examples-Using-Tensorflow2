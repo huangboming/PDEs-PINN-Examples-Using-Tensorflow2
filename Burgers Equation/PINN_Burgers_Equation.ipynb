{
 "cells": [
  {
   "cell_type": "markdown",
   "metadata": {
    "id": "IT_EINl2nYbp"
   },
   "source": [
    "### Problem\n",
    "\n",
    "Burgers equation:\n",
    "$$\\left\\{\n",
    "\\begin{array}{l}\n",
    "u_t + uu_x = \\nu u_{xx} \\quad x \\in [-1, 1], t \\in [0, 1] \\newline\n",
    "u(x, 0) = u_0(x) \\newline\n",
    "u(-1, t) = u(1, t) = 0\n",
    "\\end{array}\n",
    "\\right.$$\n",
    "\n",
    "where $u_0(x) = -\\sin(\\pi x)$, $\\nu = \\frac{0.01}{\\pi}$"
   ]
  },
  {
   "cell_type": "code",
   "execution_count": null,
   "metadata": {
    "colab": {
     "base_uri": "https://localhost:8080/"
    },
    "id": "jCC-LZDkW6Mm",
    "outputId": "93e1b552-0931-4f4e-bdef-c817b99a29bb"
   },
   "outputs": [
    {
     "name": "stdout",
     "output_type": "stream",
     "text": [
      "Looking in indexes: https://pypi.org/simple, https://us-python.pkg.dev/colab-wheels/public/simple/\n",
      "Collecting pyDOE\n",
      "  Downloading pyDOE-0.3.8.zip (22 kB)\n",
      "  Preparing metadata (setup.py) ... \u001b[?25l\u001b[?25hdone\n",
      "Requirement already satisfied: numpy in /usr/local/lib/python3.8/dist-packages (from pyDOE) (1.22.4)\n",
      "Requirement already satisfied: scipy in /usr/local/lib/python3.8/dist-packages (from pyDOE) (1.7.3)\n",
      "Building wheels for collected packages: pyDOE\n",
      "  Building wheel for pyDOE (setup.py) ... \u001b[?25l\u001b[?25hdone\n",
      "  Created wheel for pyDOE: filename=pyDOE-0.3.8-py3-none-any.whl size=18184 sha256=7a8e1f66ae64202db4029e5a29135c623779fdb89cfe0d41055ec6278714fb17\n",
      "  Stored in directory: /root/.cache/pip/wheels/00/3e/fa/5705bf59c2053c17c4799c3ab66a2e356c32f40a3044fe2134\n",
      "Successfully built pyDOE\n",
      "Installing collected packages: pyDOE\n",
      "Successfully installed pyDOE-0.3.8\n"
     ]
    }
   ],
   "source": [
    "!pip install pyDOE"
   ]
  },
  {
   "cell_type": "code",
   "execution_count": null,
   "metadata": {
    "colab": {
     "base_uri": "https://localhost:8080/"
    },
    "id": "S1QnzMt_mHlO",
    "outputId": "3c1a1589-43f8-4dff-ccd2-63a1adceb8af"
   },
   "outputs": [
    {
     "name": "stdout",
     "output_type": "stream",
     "text": [
      "TensorFlow version: 2.11.0\n"
     ]
    }
   ],
   "source": [
    "import tensorflow as tf\n",
    "import scipy.optimize\n",
    "import scipy.io\n",
    "import numpy as np\n",
    "import matplotlib.pyplot as plt\n",
    "import matplotlib.gridspec as gridspec\n",
    "from mpl_toolkits.axes_grid1 import make_axes_locatable\n",
    "from mpl_toolkits.mplot3d import Axes3D\n",
    "import time\n",
    "from pyDOE import lhs         #Latin Hypercube Sampling\n",
    "\n",
    "# generates same random numbers each time\n",
    "np.random.seed(1234)\n",
    "tf.random.set_seed(1234)\n",
    "\n",
    "print(\"TensorFlow version: {}\".format(tf.__version__))"
   ]
  },
  {
   "cell_type": "code",
   "execution_count": null,
   "metadata": {
    "id": "5PRTuo8QXPiX"
   },
   "outputs": [],
   "source": [
    "# load data\n",
    "data = scipy.io.loadmat('data/burgers_shock.mat')"
   ]
  },
  {
   "cell_type": "code",
   "execution_count": null,
   "metadata": {
    "id": "DxgAHqjxYF7E"
   },
   "outputs": [],
   "source": [
    "# Global settings\n",
    "N_u = 100\n",
    "N_f = 10000"
   ]
  },
  {
   "cell_type": "code",
   "execution_count": null,
   "metadata": {
    "id": "g-QI65jWXTvo"
   },
   "outputs": [],
   "source": [
    "# process data\n",
    "\n",
    "x = data['x'] # 256 points between -1 and 1\n",
    "t = data['t'] # 100 time points between 0 and 1\n",
    "usol = data['usol'] # solution of 256 x 100 grid points\n",
    "X, T = np.meshgrid(x, t)"
   ]
  },
  {
   "cell_type": "code",
   "execution_count": null,
   "metadata": {
    "id": "xZLT_7hoY05R"
   },
   "outputs": [],
   "source": [
    "# Test data\n",
    "\n",
    "# 所有的数据都用来测试\n",
    "# X_u_test = [X[i],T[i]] [25600,2] for interpolation\n",
    "X_u_test = np.hstack((X.flatten()[:, None], T.flatten()[:, None]))\n",
    "\n",
    "# Domain bounds\n",
    "lb = X_u_test[0]\n",
    "ub = X_u_test[-1]\n",
    "\n",
    "'''\n",
    "   Fortran Style ('F') flatten,stacked column wise!\n",
    "   u = [c1 \n",
    "        c2\n",
    "        .\n",
    "        .\n",
    "        cn]\n",
    "\n",
    "   u =  [25600x1] \n",
    "'''\n",
    "# 简单理解就是一列一列flatten\n",
    "# e.g np.array([[1, 2], [3, 4]].flatten()) => [1, 2, 3, 4]\n",
    "# np.array([[1, 2], [3, 4]].flatten('F')) => [1, 3, 2, 4]\n",
    "u = usol.flatten('F')[:, None]"
   ]
  },
  {
   "cell_type": "code",
   "execution_count": null,
   "metadata": {
    "id": "K_lfKrsVYzNT"
   },
   "outputs": [],
   "source": [
    "# Training data\n",
    "\n",
    "# IC\n",
    "left_x = np.hstack((X[0, :][:, None], T[0, :][:, None]))\n",
    "left_u = usol[:, 0][:, None]\n",
    "\n",
    "# BCs\n",
    "bottom_x = np.hstack((X[:, 0][:, None], T[:, 0][:, None]))\n",
    "bottom_u = usol[-1, :][:, None]\n",
    "\n",
    "top_x = np.hstack((X[:, -1][:, None], T[:, 0][:, None]))\n",
    "top_u = usol[0, :][:, None]\n",
    "\n",
    "all_X_u_train = np.vstack([left_x, bottom_x, top_x])\n",
    "all_u_train = np.vstack([left_u, bottom_u, top_u])\n",
    "\n",
    "# choose random N_u points for training\n",
    "idx = np.random.choice(all_X_u_train.shape[0], N_u, replace=False)\n",
    "\n",
    "X_u_train = all_X_u_train[idx, :]\n",
    "u_train = all_u_train[idx, :]\n",
    "\n",
    "# Collocation Points(PDE)\n",
    "\n",
    "# Latin Hypercube sampling for collocation points\n",
    "# N_f set of tuples(x, t)\n",
    "X_f_train = lb + (ub - lb) * lhs(2, N_f)\n",
    "X_f_train = np.vstack((X_f_train, X_u_train)) # 把边界点也加进pde的训练集中"
   ]
  },
  {
   "cell_type": "code",
   "execution_count": null,
   "metadata": {
    "id": "pxXltFgKnC0g"
   },
   "outputs": [],
   "source": [
    "class PINN(tf.Module):\n",
    "    def __init__(self, layers, lb, ub):\n",
    "        self.weights = [] # weights and bias\n",
    "        self.num_of_parameters = 0\n",
    "        self.layers = layers\n",
    "        self.lb = lb\n",
    "        self.ub = ub\n",
    "        self.epoch = 0\n",
    "\n",
    "        # create weights and bias\n",
    "        for i in range(len(layers)-1):\n",
    "            input_dim = layers[i]\n",
    "            output_dim = layers[i+1]\n",
    "\n",
    "            # weight\n",
    "            std = np.sqrt(2 / (input_dim + output_dim))\n",
    "            w_value = tf.random.normal(shape=(input_dim, output_dim), stddev=std, dtype=\"float64\")\n",
    "            w = tf.Variable(w_value, trainable=True)\n",
    "            self.weights.append(w)\n",
    "            # bias\n",
    "            b_value = tf.zeros(shape=(output_dim, ), dtype=\"float64\")\n",
    "            b = tf.Variable(b_value, trainable=True)\n",
    "            self.weights.append(b)\n",
    "\n",
    "            # num += num_of_weight + num_of_bias\n",
    "            self.num_of_parameters += input_dim * output_dim + output_dim\n",
    "\n",
    "    def __call__(self, X):\n",
    "        \"\"\"\n",
    "        Applying forward pass on dataset X\n",
    "        \"\"\"\n",
    "        x = X\n",
    "        x = (x - self.lb) / (self.ub - self.lb)\n",
    "\n",
    "        # applying activation function\n",
    "        for i in range(len(self.layers)-2):\n",
    "            # x = activation_function(wx + b)\n",
    "            x = tf.nn.tanh(tf.add(tf.matmul(x, self.weights[2*i]), self.weights[2*i+1]))\n",
    "\n",
    "        # output layer\n",
    "        x = tf.add(tf.matmul(x, self.weights[-2]), self.weights[-1])\n",
    "        return x\n",
    "\n",
    "    def loss_BC_IC(self, X_u_train, u_train):\n",
    "\n",
    "        loss_u = tf.reduce_mean(tf.square(u_train - self(X_u_train)))\n",
    "        return loss_u\n",
    "\n",
    "    def loss_PDE(self, X_f_train):\n",
    "    \n",
    "        X = tf.Variable(X_f_train, dtype = 'float64', trainable=False)\n",
    "    \n",
    "        nu = 0.01/np.pi\n",
    "\n",
    "        x_f = X[:, 0:1]\n",
    "        t_f = X[:, 1:2]\n",
    "\n",
    "        with tf.GradientTape(persistent=True) as tape:\n",
    "\n",
    "            tape.watch(x_f)\n",
    "            tape.watch(t_f)\n",
    "\n",
    "            X = tf.stack([x_f[:, 0], t_f[:, 0]], axis=1)   \n",
    "\n",
    "            u = self(X)\n",
    "            u_x = tape.gradient(u, x_f)\n",
    "\n",
    "        u_t = tape.gradient(u, t_f)    \n",
    "        u_xx = tape.gradient(u_x, x_f)\n",
    "\n",
    "        del tape\n",
    "\n",
    "        f = u_t + (u)*(u_x) - (nu)*u_xx\n",
    "\n",
    "        loss_f = tf.reduce_mean(tf.square(f))\n",
    "\n",
    "        return loss_f\n",
    "\n",
    "    def loss(self, X_u_train, u_train, X_f_train):\n",
    "\n",
    "        loss_u = self.loss_BC_IC(X_u_train, u_train)\n",
    "        loss_f = self.loss_PDE(X_f_train)\n",
    "\n",
    "        loss = loss_u + loss_f\n",
    "\n",
    "        return loss, loss_u, loss_f\n",
    "\n",
    "    def get_weights(self):\n",
    "        \"\"\"\n",
    "        Return a tensor of model weights' current value\n",
    "        \"\"\"\n",
    "\n",
    "        current_weights_value_tensor = []\n",
    "\n",
    "        for i in range(len(self.layers)-1):\n",
    "            # tf.reshape(some_tensor, [-1]) flatten tensors by row\n",
    "            w_1d = tf.reshape(self.weights[2*i], [-1]) \n",
    "            b_1d = tf.reshape(self.weights[2*i+1], [-1])\n",
    "\n",
    "            # concat flattened weight and bias\n",
    "            current_weights_value_tensor = tf.concat([current_weights_value_tensor, w_1d], axis=0)\n",
    "            current_weights_value_tensor = tf.concat([current_weights_value_tensor, b_1d], axis=0)\n",
    "\n",
    "        return current_weights_value_tensor\n",
    "\n",
    "    def set_weights(self, parameters):\n",
    "        \"\"\"\n",
    "        Set model weights, given new weights values(stored in parameters)\n",
    "\n",
    "        Params:\n",
    "          parameters: a \"long\" tensor of new model weights, whose size and shape fit the weights returned from self.get_weights()\n",
    "        \"\"\"\n",
    "\n",
    "        # Since `parameters` is a long tensor, we have to destructure it to update model weights.\n",
    "        # To do that, we need shape and size of each weight and bias\n",
    "\n",
    "        for i in range(len(self.layers)-1):\n",
    "            shape_w = tf.shape(self.weights[2*i]).numpy()\n",
    "            size_w = tf.size(self.weights[2*i]).numpy()\n",
    "\n",
    "            # pick new weight in `parameters`\n",
    "            new_w = parameters[0:size_w]\n",
    "            self.weights[2*i].assign(tf.reshape(new_w, shape_w)) # assign new weight\n",
    "            parameters = np.delete(parameters, np.arange(size_w), 0) # delete part of `parameters`, whose size fits size of weight\n",
    "\n",
    "            shape_b = tf.shape(self.weights[2*i+1]).numpy()\n",
    "            size_b = tf.size(self.weights[2*i+1]).numpy()\n",
    "\n",
    "            # pick new bias in `parameters`\n",
    "            new_b = parameters[0:size_b]\n",
    "            self.weights[2*i+1].assign(tf.reshape(new_b, shape_b)) # assign new bias\n",
    "            parameters = np.delete(parameters, np.arange(size_b), 0) # delete part of `parameters`, whose size fits size of bias\n",
    "\n",
    "    def optimizer_func(self, parameters):\n",
    "\n",
    "        self.set_weights(parameters) # set new weights\n",
    "\n",
    "        with tf.GradientTape() as tape:\n",
    "            # Since the class is inheritted from tf.Module,\n",
    "            # we can use self.trainable_variables to get all trainable variables\n",
    "            tape.watch(self.trainable_variables)\n",
    "            \n",
    "            # loss after update\n",
    "            loss, loss_u, loss_f = self.loss(X_u_train, u_train, X_f_train)\n",
    "\n",
    "        gradients = tape.gradient(loss, self.trainable_variables)\n",
    "\n",
    "        del tape\n",
    "\n",
    "        gradients_1d = [] # flatten grads\n",
    "\n",
    "        for i in range(len(self.layers)-1):\n",
    "            gradients_w_1d = tf.reshape(gradients[2*i], [-1]) #flatten weights \n",
    "            gradients_b_1d = tf.reshape(gradients[2*i+1], [-1]) #flatten biases\n",
    "\n",
    "            gradients_1d = tf.concat([gradients_1d, gradients_w_1d], 0) #concat grad_weights \n",
    "            gradients_1d = tf.concat([gradients_1d, gradients_b_1d], 0) #concat grad_biases\n",
    "\n",
    "        return loss.numpy(), gradients_1d.numpy()\n",
    "\n",
    "    def optimizer_callback(self, parameters):\n",
    "\n",
    "        loss, loss_u, loss_f = self.loss(X_u_train, u_train, X_f_train)\n",
    "\n",
    "        u_pred = self(X_u_test)\n",
    "        L2_error = np.linalg.norm((u - u_pred), 2) / np.linalg.norm(u, 2)\n",
    "\n",
    "        self.epoch += 1\n",
    "        tf.print(f\"epoch: {self.epoch} loss:{loss:.5f} loss_u: {loss_u:.5f} loss_f: {loss_f:.5f} L2_error: {L2_error:.5f}\")"
   ]
  },
  {
   "cell_type": "code",
   "execution_count": null,
   "metadata": {
    "id": "srf0Y5t61KgV"
   },
   "outputs": [],
   "source": [
    "def solutionplot(u_pred,X_u_train,u_train):\n",
    "    \n",
    "    fig, ax = plt.subplots()\n",
    "    ax.axis('off')\n",
    "\n",
    "    gs0 = gridspec.GridSpec(1, 2)\n",
    "    gs0.update(top=1-0.06, bottom=1-1/3, left=0.15, right=0.85, wspace=0)\n",
    "    ax = plt.subplot(gs0[:, :])\n",
    "\n",
    "    h = ax.imshow(u_pred, interpolation='nearest', cmap='rainbow', \n",
    "                extent=[T.min(), T.max(), X.min(), X.max()], \n",
    "                origin='lower', aspect='auto')\n",
    "    divider = make_axes_locatable(ax)\n",
    "    cax = divider.append_axes(\"right\", size=\"5%\", pad=0.05)\n",
    "    fig.colorbar(h, cax=cax)\n",
    "    \n",
    "    ax.plot(X_u_train[:,1], X_u_train[:,0], 'kx', label = 'Data (%d points)' % (u_train.shape[0]), markersize = 4, clip_on = False)\n",
    "\n",
    "    line = np.linspace(x.min(), x.max(), 2)[:,None]\n",
    "    ax.plot(t[25]*np.ones((2,1)), line, 'w-', linewidth = 1)\n",
    "    ax.plot(t[50]*np.ones((2,1)), line, 'w-', linewidth = 1)\n",
    "    ax.plot(t[75]*np.ones((2,1)), line, 'w-', linewidth = 1)    \n",
    "\n",
    "    ax.set_xlabel('$t$')\n",
    "    ax.set_ylabel('$x$')\n",
    "    ax.legend(frameon=False, loc = 'best')\n",
    "    ax.set_title('$u(x,t)$', fontsize = 10)\n",
    "    \n",
    "    ''' \n",
    "    Slices of the solution at points t = 0.25, t = 0.50 and t = 0.75\n",
    "    '''\n",
    "    \n",
    "    ####### Row 1: u(t,x) slices ##################\n",
    "    gs1 = gridspec.GridSpec(1, 3)\n",
    "    gs1.update(top=1-1/3, bottom=0, left=0.1, right=0.9, wspace=0.5)\n",
    "\n",
    "    ax = plt.subplot(gs1[0, 0])\n",
    "    ax.plot(x,usol.T[25,:], 'b-', linewidth = 2, label = 'Exact')       \n",
    "    ax.plot(x,u_pred.T[25,:], 'r--', linewidth = 2, label = 'Prediction')\n",
    "    ax.set_xlabel('$x$')\n",
    "    ax.set_ylabel('$u(x,t)$')    \n",
    "    ax.set_title('$t = 0.25s$', fontsize = 10)\n",
    "    ax.axis('square')\n",
    "    ax.set_xlim([-1.1,1.1])\n",
    "    ax.set_ylim([-1.1,1.1])\n",
    "\n",
    "    ax = plt.subplot(gs1[0, 1])\n",
    "    ax.plot(x,usol.T[50,:], 'b-', linewidth = 2, label = 'Exact')       \n",
    "    ax.plot(x,u_pred.T[50,:], 'r--', linewidth = 2, label = 'Prediction')\n",
    "    ax.set_xlabel('$x$')\n",
    "    ax.set_ylabel('$u(x,t)$')\n",
    "    ax.axis('square')\n",
    "    ax.set_xlim([-1.1,1.1])\n",
    "    ax.set_ylim([-1.1,1.1])\n",
    "    ax.set_title('$t = 0.50s$', fontsize = 10)\n",
    "    ax.legend(loc='upper center', bbox_to_anchor=(0.5, -0.35), ncol=5, frameon=False)\n",
    "\n",
    "    ax = plt.subplot(gs1[0, 2])\n",
    "    ax.plot(x,usol.T[75,:], 'b-', linewidth = 2, label = 'Exact')       \n",
    "    ax.plot(x,u_pred.T[75,:], 'r--', linewidth = 2, label = 'Prediction')\n",
    "    ax.set_xlabel('$x$')\n",
    "    ax.set_ylabel('$u(x,t)$')\n",
    "    ax.axis('square')\n",
    "    ax.set_xlim([-1.1,1.1])\n",
    "    ax.set_ylim([-1.1,1.1])    \n",
    "    ax.set_title('$t = 0.75s$', fontsize = 10)\n",
    "    \n",
    "    plt.savefig('Burgers.png',dpi = 500)   "
   ]
  },
  {
   "cell_type": "code",
   "execution_count": null,
   "metadata": {
    "colab": {
     "base_uri": "https://localhost:8080/",
     "height": 1000
    },
    "id": "PmA9AYO_nejr",
    "outputId": "14154779-925e-4a50-8fa6-226f3fd10ef9"
   },
   "outputs": [],
   "source": [
    "layers = np.array([2, 30, 30, 30, 1])\n",
    "model = PINN(layers, lb, ub)\n",
    "\n",
    "options = {\n",
    "    'disp': None,\n",
    "    'maxcor': 200, \n",
    "    'ftol': 1 * np.finfo(float).eps,  #The iteration stops when (f^k - f^{k+1})/max{|f^k|,|f^{k+1}|,1} <= ftol\n",
    "    'gtol': 5e-8, \n",
    "    'maxfun':  50000, \n",
    "    'maxiter': 3000,\n",
    "    'iprint': -1,   #print update every 50 iterations\n",
    "    'maxls': 50}\n",
    "\n",
    "results = scipy.optimize.minimize(\n",
    "    fun=model.optimizer_func,\n",
    "    x0=model.get_weights().numpy(),\n",
    "    args=(),\n",
    "    method='L-BFGS-B',\n",
    "    jac=True,\n",
    "    callback=model.optimizer_callback,\n",
    "    options=options\n",
    ")"
   ]
  },
  {
   "cell_type": "code",
   "execution_count": null,
   "metadata": {
    "colab": {
     "base_uri": "https://localhost:8080/",
     "height": 544
    },
    "id": "8erFcn_r_6sc",
    "outputId": "bb40ef7a-d6ab-4401-ab70-b2a02f98216f"
   },
   "outputs": [
    {
     "name": "stdout",
     "output_type": "stream",
     "text": [
      "      fun: 0.00035841667978583387\n",
      " hess_inv: <1981x1981 LbfgsInvHessProduct with dtype=float64>\n",
      "      jac: array([-1.95058142e-09,  1.49300518e-05, -3.03998412e-05, ...,\n",
      "       -2.31135156e-04, -7.35168607e-04,  8.88659672e-04])\n",
      "  message: 'STOP: TOTAL NO. of ITERATIONS REACHED LIMIT'\n",
      "     nfev: 3201\n",
      "      nit: 3000\n",
      "     njev: 3201\n",
      "   status: 1\n",
      "  success: False\n",
      "        x: array([ 5.85739618,  0.0888944 ,  0.64646595, ..., -0.32117762,\n",
      "       -0.96086251, -2.55240402])\n",
      "Test set L2 error: 0.110862\n"
     ]
    },
    {
     "data": {
      "image/png": "[encoded data removed]",
      "text/plain": [
       "<Figure size 432x288 with 5 Axes>"
      ]
     },
     "metadata": {
      "needs_background": "light"
     },
     "output_type": "display_data"
    }
   ],
   "source": [
    "print(results)\n",
    "model.set_weights(results.x)\n",
    "\n",
    "# accuracy\n",
    "u_pred = model(X_u_test)\n",
    "L2_error = np.linalg.norm((u - u_pred), 2) / np.linalg.norm(u, 2)\n",
    "print(f'Test set L2 error: {L2_error:5f}')\n",
    "\n",
    "u_pred = np.reshape(u_pred,(256,100),order='F') \n",
    "''' Solution Plot '''\n",
    "solutionplot(u_pred,X_u_train,u_train)"
   ]
  }
 ],
 "metadata": {
  "colab": {
   "provenance": []
  },
  "kernelspec": {
   "display_name": "Python 3 (ipykernel)",
   "language": "python",
   "name": "python3"
  },
  "language_info": {
   "codemirror_mode": {
    "name": "ipython",
    "version": 3
   },
   "file_extension": ".py",
   "mimetype": "text/x-python",
   "name": "python",
   "nbconvert_exporter": "python",
   "pygments_lexer": "ipython3",
   "version": "3.8.3"
  }
 },
 "nbformat": 4,
 "nbformat_minor": 4
}
